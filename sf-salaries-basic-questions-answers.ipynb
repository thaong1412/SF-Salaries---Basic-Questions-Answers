{
 "cells": [
  {
   "cell_type": "markdown",
   "id": "72aa6f4f",
   "metadata": {
    "papermill": {
     "duration": 0.006761,
     "end_time": "2023-11-13T20:27:39.310047",
     "exception": false,
     "start_time": "2023-11-13T20:27:39.303286",
     "status": "completed"
    },
    "tags": []
   },
   "source": [
    "**Import pandas as pd.**"
   ]
  },
  {
   "cell_type": "code",
   "execution_count": 1,
   "id": "8de474ab",
   "metadata": {
    "execution": {
     "iopub.execute_input": "2023-11-13T20:27:39.324450Z",
     "iopub.status.busy": "2023-11-13T20:27:39.323449Z",
     "iopub.status.idle": "2023-11-13T20:27:40.165148Z",
     "shell.execute_reply": "2023-11-13T20:27:40.164001Z"
    },
    "papermill": {
     "duration": 0.852205,
     "end_time": "2023-11-13T20:27:40.168275",
     "exception": false,
     "start_time": "2023-11-13T20:27:39.316070",
     "status": "completed"
    },
    "tags": []
   },
   "outputs": [],
   "source": [
    "import pandas as pd"
   ]
  },
  {
   "cell_type": "markdown",
   "id": "5191e99e",
   "metadata": {
    "papermill": {
     "duration": 0.005853,
     "end_time": "2023-11-13T20:27:40.180624",
     "exception": false,
     "start_time": "2023-11-13T20:27:40.174771",
     "status": "completed"
    },
    "tags": []
   },
   "source": [
    "**Read Salaries.csv as a dataframe called sal.**"
   ]
  },
  {
   "cell_type": "code",
   "execution_count": 2,
   "id": "cb34562b",
   "metadata": {
    "execution": {
     "iopub.execute_input": "2023-11-13T20:27:40.194300Z",
     "iopub.status.busy": "2023-11-13T20:27:40.193848Z",
     "iopub.status.idle": "2023-11-13T20:27:40.806260Z",
     "shell.execute_reply": "2023-11-13T20:27:40.804834Z"
    },
    "papermill": {
     "duration": 0.622374,
     "end_time": "2023-11-13T20:27:40.808945",
     "exception": false,
     "start_time": "2023-11-13T20:27:40.186571",
     "status": "completed"
    },
    "tags": []
   },
   "outputs": [],
   "source": [
    "sal = pd.read_csv(\"/kaggle/input/sf-salaries/Salaries.csv\",low_memory=False )\n"
   ]
  },
  {
   "cell_type": "markdown",
   "id": "aee0faae",
   "metadata": {
    "papermill": {
     "duration": 0.005902,
     "end_time": "2023-11-13T20:27:40.821287",
     "exception": false,
     "start_time": "2023-11-13T20:27:40.815385",
     "status": "completed"
    },
    "tags": []
   },
   "source": [
    "**Check the head of the DataFrame.**"
   ]
  },
  {
   "cell_type": "code",
   "execution_count": 3,
   "id": "df96b034",
   "metadata": {
    "execution": {
     "iopub.execute_input": "2023-11-13T20:27:40.834868Z",
     "iopub.status.busy": "2023-11-13T20:27:40.834495Z",
     "iopub.status.idle": "2023-11-13T20:27:40.864653Z",
     "shell.execute_reply": "2023-11-13T20:27:40.863187Z"
    },
    "papermill": {
     "duration": 0.039504,
     "end_time": "2023-11-13T20:27:40.866750",
     "exception": false,
     "start_time": "2023-11-13T20:27:40.827246",
     "status": "completed"
    },
    "tags": []
   },
   "outputs": [
    {
     "data": {
      "text/html": [
       "<div>\n",
       "<style scoped>\n",
       "    .dataframe tbody tr th:only-of-type {\n",
       "        vertical-align: middle;\n",
       "    }\n",
       "\n",
       "    .dataframe tbody tr th {\n",
       "        vertical-align: top;\n",
       "    }\n",
       "\n",
       "    .dataframe thead th {\n",
       "        text-align: right;\n",
       "    }\n",
       "</style>\n",
       "<table border=\"1\" class=\"dataframe\">\n",
       "  <thead>\n",
       "    <tr style=\"text-align: right;\">\n",
       "      <th></th>\n",
       "      <th>Id</th>\n",
       "      <th>EmployeeName</th>\n",
       "      <th>JobTitle</th>\n",
       "      <th>BasePay</th>\n",
       "      <th>OvertimePay</th>\n",
       "      <th>OtherPay</th>\n",
       "      <th>Benefits</th>\n",
       "      <th>TotalPay</th>\n",
       "      <th>TotalPayBenefits</th>\n",
       "      <th>Year</th>\n",
       "      <th>Notes</th>\n",
       "      <th>Agency</th>\n",
       "      <th>Status</th>\n",
       "    </tr>\n",
       "  </thead>\n",
       "  <tbody>\n",
       "    <tr>\n",
       "      <th>0</th>\n",
       "      <td>1</td>\n",
       "      <td>NATHANIEL FORD</td>\n",
       "      <td>GENERAL MANAGER-METROPOLITAN TRANSIT AUTHORITY</td>\n",
       "      <td>167411.18</td>\n",
       "      <td>0.0</td>\n",
       "      <td>400184.25</td>\n",
       "      <td>NaN</td>\n",
       "      <td>567595.43</td>\n",
       "      <td>567595.43</td>\n",
       "      <td>2011</td>\n",
       "      <td>NaN</td>\n",
       "      <td>San Francisco</td>\n",
       "      <td>NaN</td>\n",
       "    </tr>\n",
       "    <tr>\n",
       "      <th>1</th>\n",
       "      <td>2</td>\n",
       "      <td>GARY JIMENEZ</td>\n",
       "      <td>CAPTAIN III (POLICE DEPARTMENT)</td>\n",
       "      <td>155966.02</td>\n",
       "      <td>245131.88</td>\n",
       "      <td>137811.38</td>\n",
       "      <td>NaN</td>\n",
       "      <td>538909.28</td>\n",
       "      <td>538909.28</td>\n",
       "      <td>2011</td>\n",
       "      <td>NaN</td>\n",
       "      <td>San Francisco</td>\n",
       "      <td>NaN</td>\n",
       "    </tr>\n",
       "    <tr>\n",
       "      <th>2</th>\n",
       "      <td>3</td>\n",
       "      <td>ALBERT PARDINI</td>\n",
       "      <td>CAPTAIN III (POLICE DEPARTMENT)</td>\n",
       "      <td>212739.13</td>\n",
       "      <td>106088.18</td>\n",
       "      <td>16452.6</td>\n",
       "      <td>NaN</td>\n",
       "      <td>335279.91</td>\n",
       "      <td>335279.91</td>\n",
       "      <td>2011</td>\n",
       "      <td>NaN</td>\n",
       "      <td>San Francisco</td>\n",
       "      <td>NaN</td>\n",
       "    </tr>\n",
       "    <tr>\n",
       "      <th>3</th>\n",
       "      <td>4</td>\n",
       "      <td>CHRISTOPHER CHONG</td>\n",
       "      <td>WIRE ROPE CABLE MAINTENANCE MECHANIC</td>\n",
       "      <td>77916.0</td>\n",
       "      <td>56120.71</td>\n",
       "      <td>198306.9</td>\n",
       "      <td>NaN</td>\n",
       "      <td>332343.61</td>\n",
       "      <td>332343.61</td>\n",
       "      <td>2011</td>\n",
       "      <td>NaN</td>\n",
       "      <td>San Francisco</td>\n",
       "      <td>NaN</td>\n",
       "    </tr>\n",
       "    <tr>\n",
       "      <th>4</th>\n",
       "      <td>5</td>\n",
       "      <td>PATRICK GARDNER</td>\n",
       "      <td>DEPUTY CHIEF OF DEPARTMENT,(FIRE DEPARTMENT)</td>\n",
       "      <td>134401.6</td>\n",
       "      <td>9737.0</td>\n",
       "      <td>182234.59</td>\n",
       "      <td>NaN</td>\n",
       "      <td>326373.19</td>\n",
       "      <td>326373.19</td>\n",
       "      <td>2011</td>\n",
       "      <td>NaN</td>\n",
       "      <td>San Francisco</td>\n",
       "      <td>NaN</td>\n",
       "    </tr>\n",
       "  </tbody>\n",
       "</table>\n",
       "</div>"
      ],
      "text/plain": [
       "   Id       EmployeeName                                        JobTitle  \\\n",
       "0   1     NATHANIEL FORD  GENERAL MANAGER-METROPOLITAN TRANSIT AUTHORITY   \n",
       "1   2       GARY JIMENEZ                 CAPTAIN III (POLICE DEPARTMENT)   \n",
       "2   3     ALBERT PARDINI                 CAPTAIN III (POLICE DEPARTMENT)   \n",
       "3   4  CHRISTOPHER CHONG            WIRE ROPE CABLE MAINTENANCE MECHANIC   \n",
       "4   5    PATRICK GARDNER    DEPUTY CHIEF OF DEPARTMENT,(FIRE DEPARTMENT)   \n",
       "\n",
       "     BasePay OvertimePay   OtherPay Benefits   TotalPay  TotalPayBenefits  \\\n",
       "0  167411.18         0.0  400184.25      NaN  567595.43         567595.43   \n",
       "1  155966.02   245131.88  137811.38      NaN  538909.28         538909.28   \n",
       "2  212739.13   106088.18    16452.6      NaN  335279.91         335279.91   \n",
       "3    77916.0    56120.71   198306.9      NaN  332343.61         332343.61   \n",
       "4   134401.6      9737.0  182234.59      NaN  326373.19         326373.19   \n",
       "\n",
       "   Year  Notes         Agency Status  \n",
       "0  2011    NaN  San Francisco    NaN  \n",
       "1  2011    NaN  San Francisco    NaN  \n",
       "2  2011    NaN  San Francisco    NaN  \n",
       "3  2011    NaN  San Francisco    NaN  \n",
       "4  2011    NaN  San Francisco    NaN  "
      ]
     },
     "execution_count": 3,
     "metadata": {},
     "output_type": "execute_result"
    }
   ],
   "source": [
    "sal.head()"
   ]
  },
  {
   "cell_type": "markdown",
   "id": "ffefb590",
   "metadata": {
    "papermill": {
     "duration": 0.00605,
     "end_time": "2023-11-13T20:27:40.879362",
     "exception": false,
     "start_time": "2023-11-13T20:27:40.873312",
     "status": "completed"
    },
    "tags": []
   },
   "source": [
    "**Use the .info() method to find out how many entries there are.**"
   ]
  },
  {
   "cell_type": "code",
   "execution_count": 4,
   "id": "5f1f01df",
   "metadata": {
    "execution": {
     "iopub.execute_input": "2023-11-13T20:27:40.893489Z",
     "iopub.status.busy": "2023-11-13T20:27:40.893149Z",
     "iopub.status.idle": "2023-11-13T20:27:40.959096Z",
     "shell.execute_reply": "2023-11-13T20:27:40.958393Z"
    },
    "papermill": {
     "duration": 0.07542,
     "end_time": "2023-11-13T20:27:40.961053",
     "exception": false,
     "start_time": "2023-11-13T20:27:40.885633",
     "status": "completed"
    },
    "tags": []
   },
   "outputs": [
    {
     "name": "stdout",
     "output_type": "stream",
     "text": [
      "<class 'pandas.core.frame.DataFrame'>\n",
      "RangeIndex: 148654 entries, 0 to 148653\n",
      "Data columns (total 13 columns):\n",
      " #   Column            Non-Null Count   Dtype  \n",
      "---  ------            --------------   -----  \n",
      " 0   Id                148654 non-null  int64  \n",
      " 1   EmployeeName      148654 non-null  object \n",
      " 2   JobTitle          148654 non-null  object \n",
      " 3   BasePay           148049 non-null  object \n",
      " 4   OvertimePay       148654 non-null  object \n",
      " 5   OtherPay          148654 non-null  object \n",
      " 6   Benefits          112495 non-null  object \n",
      " 7   TotalPay          148654 non-null  float64\n",
      " 8   TotalPayBenefits  148654 non-null  float64\n",
      " 9   Year              148654 non-null  int64  \n",
      " 10  Notes             0 non-null       float64\n",
      " 11  Agency            148654 non-null  object \n",
      " 12  Status            38119 non-null   object \n",
      "dtypes: float64(3), int64(2), object(8)\n",
      "memory usage: 14.7+ MB\n"
     ]
    }
   ],
   "source": [
    "sal.info()"
   ]
  },
  {
   "cell_type": "markdown",
   "id": "b74a814f",
   "metadata": {
    "papermill": {
     "duration": 0.006283,
     "end_time": "2023-11-13T20:27:40.974107",
     "exception": false,
     "start_time": "2023-11-13T20:27:40.967824",
     "status": "completed"
    },
    "tags": []
   },
   "source": [
    "** Convert data type of \"BasePay\", \"OvertimePay\", \"OtherPay\", \"Benefits\" to numeric data.**"
   ]
  },
  {
   "cell_type": "code",
   "execution_count": 5,
   "id": "04e83c3d",
   "metadata": {
    "execution": {
     "iopub.execute_input": "2023-11-13T20:27:40.988651Z",
     "iopub.status.busy": "2023-11-13T20:27:40.988255Z",
     "iopub.status.idle": "2023-11-13T20:27:41.160192Z",
     "shell.execute_reply": "2023-11-13T20:27:41.158653Z"
    },
    "papermill": {
     "duration": 0.182187,
     "end_time": "2023-11-13T20:27:41.162792",
     "exception": false,
     "start_time": "2023-11-13T20:27:40.980605",
     "status": "completed"
    },
    "tags": []
   },
   "outputs": [],
   "source": [
    "sal['BasePay'] = pd.to_numeric(sal['BasePay'],errors='coerce')\n",
    "sal['OvertimePay'] = pd.to_numeric(sal['OvertimePay'],errors='coerce')\n",
    "sal['OtherPay'] = pd.to_numeric(sal['OtherPay'],errors='coerce')\n",
    "sal['Benefits'] = pd.to_numeric(sal['Benefits'],errors='coerce')"
   ]
  },
  {
   "cell_type": "markdown",
   "id": "82d16075",
   "metadata": {
    "papermill": {
     "duration": 0.006763,
     "end_time": "2023-11-13T20:27:41.176449",
     "exception": false,
     "start_time": "2023-11-13T20:27:41.169686",
     "status": "completed"
    },
    "tags": []
   },
   "source": [
    "**What is the average BasePay ?**"
   ]
  },
  {
   "cell_type": "code",
   "execution_count": 6,
   "id": "7d6ece39",
   "metadata": {
    "execution": {
     "iopub.execute_input": "2023-11-13T20:27:41.192528Z",
     "iopub.status.busy": "2023-11-13T20:27:41.192167Z",
     "iopub.status.idle": "2023-11-13T20:27:41.199676Z",
     "shell.execute_reply": "2023-11-13T20:27:41.198720Z"
    },
    "papermill": {
     "duration": 0.017997,
     "end_time": "2023-11-13T20:27:41.201337",
     "exception": false,
     "start_time": "2023-11-13T20:27:41.183340",
     "status": "completed"
    },
    "tags": []
   },
   "outputs": [
    {
     "data": {
      "text/plain": [
       "66325.4488404877"
      ]
     },
     "execution_count": 6,
     "metadata": {},
     "output_type": "execute_result"
    }
   ],
   "source": [
    "sal['BasePay'].mean()"
   ]
  },
  {
   "cell_type": "markdown",
   "id": "e50de373",
   "metadata": {
    "papermill": {
     "duration": 0.006592,
     "end_time": "2023-11-13T20:27:41.215287",
     "exception": false,
     "start_time": "2023-11-13T20:27:41.208695",
     "status": "completed"
    },
    "tags": []
   },
   "source": [
    "**What is the highest amount of OvertimePay in the dataset ?**"
   ]
  },
  {
   "cell_type": "code",
   "execution_count": 7,
   "id": "3fb04134",
   "metadata": {
    "execution": {
     "iopub.execute_input": "2023-11-13T20:27:41.230544Z",
     "iopub.status.busy": "2023-11-13T20:27:41.229888Z",
     "iopub.status.idle": "2023-11-13T20:27:41.239518Z",
     "shell.execute_reply": "2023-11-13T20:27:41.238786Z"
    },
    "papermill": {
     "duration": 0.019389,
     "end_time": "2023-11-13T20:27:41.241162",
     "exception": false,
     "start_time": "2023-11-13T20:27:41.221773",
     "status": "completed"
    },
    "tags": []
   },
   "outputs": [
    {
     "data": {
      "text/plain": [
       "245131.88"
      ]
     },
     "execution_count": 7,
     "metadata": {},
     "output_type": "execute_result"
    }
   ],
   "source": [
    "sal['OvertimePay'].max()"
   ]
  },
  {
   "cell_type": "code",
   "execution_count": 8,
   "id": "0d5676e3",
   "metadata": {
    "execution": {
     "iopub.execute_input": "2023-11-13T20:27:41.256952Z",
     "iopub.status.busy": "2023-11-13T20:27:41.255946Z",
     "iopub.status.idle": "2023-11-13T20:27:41.277033Z",
     "shell.execute_reply": "2023-11-13T20:27:41.276067Z"
    },
    "papermill": {
     "duration": 0.031364,
     "end_time": "2023-11-13T20:27:41.279388",
     "exception": false,
     "start_time": "2023-11-13T20:27:41.248024",
     "status": "completed"
    },
    "tags": []
   },
   "outputs": [
    {
     "data": {
      "text/plain": [
       "count    148650.000000\n",
       "mean       5066.059886\n",
       "std       11454.380559\n",
       "min          -0.010000\n",
       "25%           0.000000\n",
       "50%           0.000000\n",
       "75%        4658.175000\n",
       "max      245131.880000\n",
       "Name: OvertimePay, dtype: float64"
      ]
     },
     "execution_count": 8,
     "metadata": {},
     "output_type": "execute_result"
    }
   ],
   "source": [
    "# Double check with describe()\n",
    "\n",
    "sal['OvertimePay'].describe()"
   ]
  },
  {
   "cell_type": "markdown",
   "id": "e19d797d",
   "metadata": {
    "papermill": {
     "duration": 0.006332,
     "end_time": "2023-11-13T20:27:41.292798",
     "exception": false,
     "start_time": "2023-11-13T20:27:41.286466",
     "status": "completed"
    },
    "tags": []
   },
   "source": [
    "**What is the job title of  JOSEPH DRISCOLL ? Note: Use all caps, otherwise you may get an answer that doesn't match up (there is also a lowercase Joseph Driscoll).**"
   ]
  },
  {
   "cell_type": "code",
   "execution_count": 9,
   "id": "4799fc2b",
   "metadata": {
    "execution": {
     "iopub.execute_input": "2023-11-13T20:27:41.308145Z",
     "iopub.status.busy": "2023-11-13T20:27:41.307500Z",
     "iopub.status.idle": "2023-11-13T20:27:41.328198Z",
     "shell.execute_reply": "2023-11-13T20:27:41.327533Z"
    },
    "papermill": {
     "duration": 0.030404,
     "end_time": "2023-11-13T20:27:41.329818",
     "exception": false,
     "start_time": "2023-11-13T20:27:41.299414",
     "status": "completed"
    },
    "tags": []
   },
   "outputs": [
    {
     "data": {
      "text/plain": [
       "24    CAPTAIN, FIRE SUPPRESSION\n",
       "Name: JobTitle, dtype: object"
      ]
     },
     "execution_count": 9,
     "metadata": {},
     "output_type": "execute_result"
    }
   ],
   "source": [
    "sal[sal['EmployeeName'] == 'JOSEPH DRISCOLL']['JobTitle']"
   ]
  },
  {
   "cell_type": "markdown",
   "id": "1a8e3155",
   "metadata": {
    "papermill": {
     "duration": 0.006603,
     "end_time": "2023-11-13T20:27:41.343347",
     "exception": false,
     "start_time": "2023-11-13T20:27:41.336744",
     "status": "completed"
    },
    "tags": []
   },
   "source": [
    "**How much does JOSEPH DRISCOLL make (including benefits)?**"
   ]
  },
  {
   "cell_type": "code",
   "execution_count": 10,
   "id": "bd6dc243",
   "metadata": {
    "execution": {
     "iopub.execute_input": "2023-11-13T20:27:41.359244Z",
     "iopub.status.busy": "2023-11-13T20:27:41.358584Z",
     "iopub.status.idle": "2023-11-13T20:27:41.378613Z",
     "shell.execute_reply": "2023-11-13T20:27:41.377230Z"
    },
    "papermill": {
     "duration": 0.03073,
     "end_time": "2023-11-13T20:27:41.381071",
     "exception": false,
     "start_time": "2023-11-13T20:27:41.350341",
     "status": "completed"
    },
    "tags": []
   },
   "outputs": [
    {
     "data": {
      "text/plain": [
       "24    270324.91\n",
       "Name: TotalPayBenefits, dtype: float64"
      ]
     },
     "execution_count": 10,
     "metadata": {},
     "output_type": "execute_result"
    }
   ],
   "source": [
    "sal[sal['EmployeeName'] == 'JOSEPH DRISCOLL']['TotalPayBenefits']"
   ]
  },
  {
   "cell_type": "markdown",
   "id": "d323fe67",
   "metadata": {
    "papermill": {
     "duration": 0.006778,
     "end_time": "2023-11-13T20:27:41.395058",
     "exception": false,
     "start_time": "2023-11-13T20:27:41.388280",
     "status": "completed"
    },
    "tags": []
   },
   "source": [
    "**What is the name of highest paid person (including benefits)?**"
   ]
  },
  {
   "cell_type": "code",
   "execution_count": 11,
   "id": "5060fc0d",
   "metadata": {
    "execution": {
     "iopub.execute_input": "2023-11-13T20:27:41.410572Z",
     "iopub.status.busy": "2023-11-13T20:27:41.410196Z",
     "iopub.status.idle": "2023-11-13T20:27:41.418933Z",
     "shell.execute_reply": "2023-11-13T20:27:41.417832Z"
    },
    "papermill": {
     "duration": 0.019976,
     "end_time": "2023-11-13T20:27:41.421856",
     "exception": false,
     "start_time": "2023-11-13T20:27:41.401880",
     "status": "completed"
    },
    "tags": []
   },
   "outputs": [
    {
     "data": {
      "text/plain": [
       "0    NATHANIEL FORD\n",
       "Name: EmployeeName, dtype: object"
      ]
     },
     "execution_count": 11,
     "metadata": {},
     "output_type": "execute_result"
    }
   ],
   "source": [
    "sal[sal['TotalPayBenefits'] == sal['TotalPayBenefits'].max()]['EmployeeName']"
   ]
  },
  {
   "cell_type": "markdown",
   "id": "1c4e2106",
   "metadata": {
    "papermill": {
     "duration": 0.006895,
     "end_time": "2023-11-13T20:27:41.437534",
     "exception": false,
     "start_time": "2023-11-13T20:27:41.430639",
     "status": "completed"
    },
    "tags": []
   },
   "source": [
    "**What is the name of lowest paid person (including benefits)?**"
   ]
  },
  {
   "cell_type": "code",
   "execution_count": 12,
   "id": "e26d6705",
   "metadata": {
    "execution": {
     "iopub.execute_input": "2023-11-13T20:27:41.453862Z",
     "iopub.status.busy": "2023-11-13T20:27:41.452942Z",
     "iopub.status.idle": "2023-11-13T20:27:41.462196Z",
     "shell.execute_reply": "2023-11-13T20:27:41.461266Z"
    },
    "papermill": {
     "duration": 0.019499,
     "end_time": "2023-11-13T20:27:41.464075",
     "exception": false,
     "start_time": "2023-11-13T20:27:41.444576",
     "status": "completed"
    },
    "tags": []
   },
   "outputs": [
    {
     "data": {
      "text/plain": [
       "148653    Joe Lopez\n",
       "Name: EmployeeName, dtype: object"
      ]
     },
     "execution_count": 12,
     "metadata": {},
     "output_type": "execute_result"
    }
   ],
   "source": [
    "sal[sal['TotalPayBenefits'] == sal['TotalPayBenefits'].min()]['EmployeeName']"
   ]
  },
  {
   "cell_type": "markdown",
   "id": "076b34ce",
   "metadata": {
    "papermill": {
     "duration": 0.006977,
     "end_time": "2023-11-13T20:27:41.479146",
     "exception": false,
     "start_time": "2023-11-13T20:27:41.472169",
     "status": "completed"
    },
    "tags": []
   },
   "source": [
    "**What was the average (mean) BasePay of all employees per year? (2011-2014)?**"
   ]
  },
  {
   "cell_type": "code",
   "execution_count": 13,
   "id": "5534b0e2",
   "metadata": {
    "execution": {
     "iopub.execute_input": "2023-11-13T20:27:41.494951Z",
     "iopub.status.busy": "2023-11-13T20:27:41.494610Z",
     "iopub.status.idle": "2023-11-13T20:27:41.505823Z",
     "shell.execute_reply": "2023-11-13T20:27:41.505042Z"
    },
    "papermill": {
     "duration": 0.021147,
     "end_time": "2023-11-13T20:27:41.507470",
     "exception": false,
     "start_time": "2023-11-13T20:27:41.486323",
     "status": "completed"
    },
    "tags": []
   },
   "outputs": [
    {
     "data": {
      "text/plain": [
       "count    148654.000000\n",
       "mean       2012.522643\n",
       "std           1.117538\n",
       "min        2011.000000\n",
       "25%        2012.000000\n",
       "50%        2013.000000\n",
       "75%        2014.000000\n",
       "max        2014.000000\n",
       "Name: Year, dtype: float64"
      ]
     },
     "execution_count": 13,
     "metadata": {},
     "output_type": "execute_result"
    }
   ],
   "source": [
    "sal['Year'].describe() # all years in the dataset"
   ]
  },
  {
   "cell_type": "code",
   "execution_count": 14,
   "id": "408c70e3",
   "metadata": {
    "execution": {
     "iopub.execute_input": "2023-11-13T20:27:41.524419Z",
     "iopub.status.busy": "2023-11-13T20:27:41.523409Z",
     "iopub.status.idle": "2023-11-13T20:27:41.540019Z",
     "shell.execute_reply": "2023-11-13T20:27:41.538977Z"
    },
    "papermill": {
     "duration": 0.026671,
     "end_time": "2023-11-13T20:27:41.541818",
     "exception": false,
     "start_time": "2023-11-13T20:27:41.515147",
     "status": "completed"
    },
    "tags": []
   },
   "outputs": [
    {
     "data": {
      "text/plain": [
       "Year\n",
       "2011    63595.956517\n",
       "2012    65436.406857\n",
       "2013    69630.030216\n",
       "2014    66564.421924\n",
       "Name: BasePay, dtype: float64"
      ]
     },
     "execution_count": 14,
     "metadata": {},
     "output_type": "execute_result"
    }
   ],
   "source": [
    "sal.groupby('Year')['BasePay'].mean() # Mean() is used to calculate average"
   ]
  },
  {
   "cell_type": "markdown",
   "id": "00f61332",
   "metadata": {
    "papermill": {
     "duration": 0.006892,
     "end_time": "2023-11-13T20:27:41.556230",
     "exception": false,
     "start_time": "2023-11-13T20:27:41.549338",
     "status": "completed"
    },
    "tags": []
   },
   "source": [
    "**How many unique job titles are there?**"
   ]
  },
  {
   "cell_type": "code",
   "execution_count": 15,
   "id": "1d4797ec",
   "metadata": {
    "execution": {
     "iopub.execute_input": "2023-11-13T20:27:41.572597Z",
     "iopub.status.busy": "2023-11-13T20:27:41.572200Z",
     "iopub.status.idle": "2023-11-13T20:27:41.589614Z",
     "shell.execute_reply": "2023-11-13T20:27:41.588414Z"
    },
    "papermill": {
     "duration": 0.028171,
     "end_time": "2023-11-13T20:27:41.591632",
     "exception": false,
     "start_time": "2023-11-13T20:27:41.563461",
     "status": "completed"
    },
    "tags": []
   },
   "outputs": [
    {
     "data": {
      "text/plain": [
       "2159"
      ]
     },
     "execution_count": 15,
     "metadata": {},
     "output_type": "execute_result"
    }
   ],
   "source": [
    "sal['JobTitle'].nunique()"
   ]
  },
  {
   "cell_type": "markdown",
   "id": "de5160b1",
   "metadata": {
    "papermill": {
     "duration": 0.007342,
     "end_time": "2023-11-13T20:27:41.606796",
     "exception": false,
     "start_time": "2023-11-13T20:27:41.599454",
     "status": "completed"
    },
    "tags": []
   },
   "source": [
    "**What are the top 5 most common jobs?**"
   ]
  },
  {
   "cell_type": "code",
   "execution_count": 16,
   "id": "b8022604",
   "metadata": {
    "execution": {
     "iopub.execute_input": "2023-11-13T20:27:41.623595Z",
     "iopub.status.busy": "2023-11-13T20:27:41.623209Z",
     "iopub.status.idle": "2023-11-13T20:27:41.637858Z",
     "shell.execute_reply": "2023-11-13T20:27:41.637109Z"
    },
    "papermill": {
     "duration": 0.025151,
     "end_time": "2023-11-13T20:27:41.639590",
     "exception": false,
     "start_time": "2023-11-13T20:27:41.614439",
     "status": "completed"
    },
    "tags": []
   },
   "outputs": [
    {
     "data": {
      "text/plain": [
       "JobTitle\n",
       "Transit Operator                7036\n",
       "Special Nurse                   4389\n",
       "Registered Nurse                3736\n",
       "Public Svc Aide-Public Works    2518\n",
       "Police Officer 3                2421\n",
       "Name: count, dtype: int64"
      ]
     },
     "execution_count": 16,
     "metadata": {},
     "output_type": "execute_result"
    }
   ],
   "source": [
    "sal['JobTitle'].value_counts().head(5)"
   ]
  },
  {
   "cell_type": "markdown",
   "id": "6a772873",
   "metadata": {
    "papermill": {
     "duration": 0.007462,
     "end_time": "2023-11-13T20:27:41.709453",
     "exception": false,
     "start_time": "2023-11-13T20:27:41.701991",
     "status": "completed"
    },
    "tags": []
   },
   "source": [
    "**How many Job Titles were represented by only one person in 2013? (e.g. Job Titles with only one occurence in 2013?)**"
   ]
  },
  {
   "cell_type": "code",
   "execution_count": 17,
   "id": "3a049045",
   "metadata": {
    "execution": {
     "iopub.execute_input": "2023-11-13T20:27:41.726521Z",
     "iopub.status.busy": "2023-11-13T20:27:41.726135Z",
     "iopub.status.idle": "2023-11-13T20:27:41.739573Z",
     "shell.execute_reply": "2023-11-13T20:27:41.738744Z"
    },
    "papermill": {
     "duration": 0.024266,
     "end_time": "2023-11-13T20:27:41.741336",
     "exception": false,
     "start_time": "2023-11-13T20:27:41.717070",
     "status": "completed"
    },
    "tags": []
   },
   "outputs": [
    {
     "data": {
      "text/plain": [
       "202"
      ]
     },
     "execution_count": 17,
     "metadata": {},
     "output_type": "execute_result"
    }
   ],
   "source": [
    "data_2013 = sal[sal['Year'] == 2013]['JobTitle'].value_counts()\n",
    "\n",
    "# Job Titles were represented by only one person in 2013\n",
    "\n",
    "len(data_2013[data_2013 ==1])\n"
   ]
  },
  {
   "cell_type": "markdown",
   "id": "14fc1a7e",
   "metadata": {
    "papermill": {
     "duration": 0.007632,
     "end_time": "2023-11-13T20:27:41.757078",
     "exception": false,
     "start_time": "2023-11-13T20:27:41.749446",
     "status": "completed"
    },
    "tags": []
   },
   "source": [
    "**Is there a correlation between length of the Job Title string and Salary?**"
   ]
  },
  {
   "cell_type": "code",
   "execution_count": 18,
   "id": "1744d8f3",
   "metadata": {
    "execution": {
     "iopub.execute_input": "2023-11-13T20:27:41.774523Z",
     "iopub.status.busy": "2023-11-13T20:27:41.773999Z",
     "iopub.status.idle": "2023-11-13T20:27:41.815864Z",
     "shell.execute_reply": "2023-11-13T20:27:41.814359Z"
    },
    "papermill": {
     "duration": 0.05295,
     "end_time": "2023-11-13T20:27:41.817864",
     "exception": false,
     "start_time": "2023-11-13T20:27:41.764914",
     "status": "completed"
    },
    "tags": []
   },
   "outputs": [
    {
     "data": {
      "text/plain": [
       "-0.036878445932606675"
      ]
     },
     "execution_count": 18,
     "metadata": {},
     "output_type": "execute_result"
    }
   ],
   "source": [
    "sal['JobTitleLength'] = sal['JobTitle'].apply(len)\n",
    "\n",
    "length_salary_cor = sal['JobTitleLength'].corr(sal['TotalPayBenefits'])\n",
    "\n",
    "length_salary_cor"
   ]
  },
  {
   "cell_type": "code",
   "execution_count": 19,
   "id": "42159a5a",
   "metadata": {
    "execution": {
     "iopub.execute_input": "2023-11-13T20:27:41.836787Z",
     "iopub.status.busy": "2023-11-13T20:27:41.836411Z",
     "iopub.status.idle": "2023-11-13T20:27:41.841079Z",
     "shell.execute_reply": "2023-11-13T20:27:41.839974Z"
    },
    "papermill": {
     "duration": 0.016485,
     "end_time": "2023-11-13T20:27:41.843046",
     "exception": false,
     "start_time": "2023-11-13T20:27:41.826561",
     "status": "completed"
    },
    "tags": []
   },
   "outputs": [],
   "source": [
    "# Since the correlation between length of the Job Title string and Salary is -0.068, there is not a strong linear correlation between the length of job titles and total pay benefits in the dataset."
   ]
  }
 ],
 "metadata": {
  "anaconda-cloud": {},
  "kaggle": {
   "accelerator": "none",
   "dataSources": [
    {
     "datasetId": 14,
     "sourceId": 827864,
     "sourceType": "datasetVersion"
    }
   ],
   "dockerImageVersionId": 30558,
   "isGpuEnabled": false,
   "isInternetEnabled": true,
   "language": "python",
   "sourceType": "notebook"
  },
  "kernelspec": {
   "display_name": "Python 3",
   "language": "python",
   "name": "python3"
  },
  "language_info": {
   "codemirror_mode": {
    "name": "ipython",
    "version": 3
   },
   "file_extension": ".py",
   "mimetype": "text/x-python",
   "name": "python",
   "nbconvert_exporter": "python",
   "pygments_lexer": "ipython3",
   "version": "3.10.12"
  },
  "papermill": {
   "default_parameters": {},
   "duration": 6.58302,
   "end_time": "2023-11-13T20:27:42.271995",
   "environment_variables": {},
   "exception": null,
   "input_path": "__notebook__.ipynb",
   "output_path": "__notebook__.ipynb",
   "parameters": {},
   "start_time": "2023-11-13T20:27:35.688975",
   "version": "2.4.0"
  }
 },
 "nbformat": 4,
 "nbformat_minor": 5
}
